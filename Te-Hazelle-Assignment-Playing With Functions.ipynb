{
 "cells": [
  {
   "cell_type": "markdown",
   "metadata": {},
   "source": [
    "## Playing With Functions"
   ]
  },
  {
   "cell_type": "markdown",
   "metadata": {},
   "source": [
    "These exercises are designed to strengthen your grasp on basic programming concepts. Read what is required of you carefully. For example, instructions to **return** values are not the same as those of **printing**.\n",
    "\n",
    "Make sure that cells are in **script mode** (not **interactive mode**).\n"
   ]
  },
  {
   "cell_type": "markdown",
   "metadata": {},
   "source": [
    "# 1\n",
    "### 1 point\n",
    "\n",
    "Write a function that takes the circumference of a circle as a parameter and **returns** the area of that circle.\n",
    "\n",
    "Note: Assume the value of pi is 3.1416"
   ]
  },
  {
   "cell_type": "code",
   "execution_count": 46,
   "metadata": {},
   "outputs": [
    {
     "name": "stdout",
     "output_type": "stream",
     "text": [
      "Enter circumference: 31.42\n",
      "Area:  78.56000127323658\n"
     ]
    }
   ],
   "source": [
    "#circumference = 2*pi*r\n",
    "#area = pi*r*r\n",
    "\n",
    "circumference = float(input(\"Enter circumference: \"))\n",
    "pi = 3.1416\n",
    "\n",
    "def area(circumference):\n",
    "    r = circumference / (2*pi)\n",
    "    area = pi*r*r\n",
    "    return area\n",
    "    \n",
    "area = area(circumference)\n",
    "print(\"Area: \", area)"
   ]
  },
  {
   "cell_type": "markdown",
   "metadata": {},
   "source": [
    "# 2\n",
    "### 2 points\n",
    "\n",
    "Write a function that takes a 5-character string as a parameter and **returns** the string in reverse order.\n",
    "\n",
    "e.g. reverseString(\"Hello\") -> \"olleH\""
   ]
  },
  {
   "cell_type": "code",
   "execution_count": 18,
   "metadata": {},
   "outputs": [
    {
     "name": "stdout",
     "output_type": "stream",
     "text": [
      "Hello\n",
      "olleH"
     ]
    }
   ],
   "source": [
    "word = str(input())\n",
    "\n",
    "def reverseString(word):\n",
    "    length = len(word)\n",
    "    if length == 5:\n",
    "        for char in range(length-1,-1,-1):\n",
    "            print(word[char], end=\"\")\n",
    "\n",
    "reverse = reverseString(word)"
   ]
  },
  {
   "cell_type": "markdown",
   "metadata": {},
   "source": [
    "# 3\n",
    "### 2 points\n",
    "\n",
    "Write a function that takes a positive integer as input and **returns** the sum of all positive integers smaller than and including the number itself.\n",
    "\n",
    "e.g. backAddition(5) -> 1 + 2 + 3 + 4 + 5 -> 15"
   ]
  },
  {
   "cell_type": "code",
   "execution_count": 58,
   "metadata": {},
   "outputs": [
    {
     "name": "stdout",
     "output_type": "stream",
     "text": [
      "Enter a positive integer: 5\n",
      "15\n"
     ]
    }
   ],
   "source": [
    "number = int(input(\"Enter a positive integer: \"))\n",
    "\n",
    "def backAddition(number):\n",
    "    total_sum = 0\n",
    "    for i in range(number,0,-1):\n",
    "        total_sum = total_sum + i\n",
    "    return total_sum\n",
    "\n",
    "answer = backAddition(number)\n",
    "print(answer)"
   ]
  },
  {
   "cell_type": "markdown",
   "metadata": {},
   "source": [
    "# 4\n",
    "### 5 points (all or nothing)\n",
    "\n",
    "The sum of the squares of the first ten natural numbers is,\n",
    "12 + 22 + ... + 102 = 385\n",
    "\n",
    "The square of the sum of the first ten natural numbers is,\n",
    "(1 + 2 + ... + 10)2 = 552 = 3025\n",
    "\n",
    "Hence the difference between the sum of the squares of the first ten natural numbers and the square of the sum is 3025 − 385 = 2640.\n",
    "\n",
    "Find the difference between the sum of the squares of the first one hundred natural numbers and the square of the sum.\n",
    "\n",
    "Show code that generates the answer."
   ]
  },
  {
   "cell_type": "code",
   "execution_count": 8,
   "metadata": {},
   "outputs": [
    {
     "name": "stdout",
     "output_type": "stream",
     "text": [
      "Difference:  25164150\n"
     ]
    }
   ],
   "source": [
    "n = 100\n",
    "\n",
    "def sum_of_squares(n):\n",
    "    sum_of_squares = 0\n",
    "    for number in range(n,0,-1):\n",
    "        square = number**2\n",
    "        sum_of_squares = sum_of_squares + square\n",
    "    return sum_of_squares\n",
    "\n",
    "def square_of_sum(n):\n",
    "    sum = 0\n",
    "    for number in range(n,0,-1):\n",
    "        sum = sum + number\n",
    "    square = sum**2\n",
    "    return square\n",
    "\n",
    "difference = square_of_sum(n) - sum_of_squares(n)\n",
    "print(\"Difference: \", difference)"
   ]
  },
  {
   "cell_type": "markdown",
   "metadata": {},
   "source": [
    "# 5\n",
    "### 5 points \n",
    "\n",
    "Write a function that allows a self-service Point of Sale system to give you the exact change when you pay in cash.\n",
    "\n",
    "The function should accept the number of cents entered by the caller of the function. It then should **display** the denominations of the coins that should be given to the buyer. The change should use as few coins as possible. Assume that the Point of Sale system is loaded with 1 cent, 5 cents, 25 cents and 1 peso coins.\n",
    "\n",
    "Write main program code that accepts the number of cents manually through user input and calls the function written above.\n",
    "\n",
    "**Input:** The program accepts one positive integer, ***cents***, corresponding to the total change to be given by the Point of Sale system.\n",
    "\n",
    "**Output:** The number of 1 peso, 50 cents, 25 cents and 1 cent coins respectively. There should be one output per line.\n",
    "\n",
    "**Sample Input 1:**  \n",
    "105\n",
    "\n",
    "**Sample Output 1**  \n",
    "1  \n",
    "0  \n",
    "0  \n",
    "1  \n",
    "0  \n",
    "\n",
    "**Sample Input 2:**  \n",
    "69  \n",
    "\n",
    "**Sample Output 2:**  \n",
    "0  \n",
    "2  \n",
    "1  \n",
    "1  \n",
    "4  \n",
    "\n",
    "\n"
   ]
  },
  {
   "cell_type": "code",
   "execution_count": 1,
   "metadata": {},
   "outputs": [
    {
     "name": "stdout",
     "output_type": "stream",
     "text": [
      "69\n",
      "0\n",
      "2\n",
      "1\n",
      "1\n",
      "4\n"
     ]
    }
   ],
   "source": [
    "#denomination in cents: 1, 5, 10, 25, 100 (1 piso)\n",
    "\n",
    "cents = int(input())\n",
    "\n",
    "def denomination(cents):\n",
    "    piso = cents//100 \n",
    "    print(piso)\n",
    "    twenty_five = (cents-(100*piso))//25\n",
    "    print(twenty_five)\n",
    "    ten = (cents-(100*piso)-(25*twenty_five))//10\n",
    "    print(ten)\n",
    "    five = (cents-(100*piso)-(25*twenty_five)-(10*ten))//5\n",
    "    print(five)\n",
    "    one = (cents-(100*piso)-(25*twenty_five)-(10*ten)-(5*five))//1\n",
    "    print(one)\n",
    "\n",
    "change = denomination(cents)"
   ]
  },
  {
   "cell_type": "code",
   "execution_count": null,
   "metadata": {},
   "outputs": [],
   "source": []
  }
 ],
 "metadata": {
  "kernelspec": {
   "display_name": "Python 3",
   "language": "python",
   "name": "python3"
  },
  "language_info": {
   "codemirror_mode": {
    "name": "ipython",
    "version": 3
   },
   "file_extension": ".py",
   "mimetype": "text/x-python",
   "name": "python",
   "nbconvert_exporter": "python",
   "pygments_lexer": "ipython3",
   "version": "3.7.6"
  }
 },
 "nbformat": 4,
 "nbformat_minor": 2
}
