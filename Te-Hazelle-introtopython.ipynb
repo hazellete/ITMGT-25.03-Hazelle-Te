{
 "cells": [
  {
   "cell_type": "markdown",
   "metadata": {},
   "source": [
    "```\n",
    "194926\n",
    "TE\n",
    "2 BS ME\n",
    "```"
   ]
  },
  {
   "cell_type": "code",
   "execution_count": 8,
   "metadata": {},
   "outputs": [
    {
     "name": "stdout",
     "output_type": "stream",
     "text": [
      "Enter first number: 1\n",
      "Enter second number: 1\n",
      "Enter third number: 1\n",
      "The average is  1.0\n"
     ]
    }
   ],
   "source": [
    "#getting inputs from user\n",
    "first = int(input(\"Enter first number: \"))\n",
    "second = int(input(\"Enter second number: \"))\n",
    "third = int(input(\"Enter third number: \"))\n",
    "\n",
    "#getting the average\n",
    "def three_number_average(first, second, third):\n",
    "    average = (first + second + third) / 3\n",
    "    return average\n",
    "\n",
    "average = three_number_average(first, second, third)\n",
    "\n",
    "#display average\n",
    "print(\"The average is \", average)"
   ]
  },
  {
   "cell_type": "code",
   "execution_count": null,
   "metadata": {},
   "outputs": [],
   "source": []
  }
 ],
 "metadata": {
  "kernelspec": {
   "display_name": "Python 3",
   "language": "python",
   "name": "python3"
  },
  "language_info": {
   "codemirror_mode": {
    "name": "ipython",
    "version": 3
   },
   "file_extension": ".py",
   "mimetype": "text/x-python",
   "name": "python",
   "nbconvert_exporter": "python",
   "pygments_lexer": "ipython3",
   "version": "3.7.6"
  }
 },
 "nbformat": 4,
 "nbformat_minor": 4
}
