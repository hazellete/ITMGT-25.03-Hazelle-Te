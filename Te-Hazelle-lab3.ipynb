{
 "cells": [
  {
   "cell_type": "markdown",
   "metadata": {},
   "source": [
    "194926  \n",
    "TE  \n",
    "2 BS ME  "
   ]
  },
  {
   "cell_type": "markdown",
   "metadata": {},
   "source": [
    "## Problem 1: Social Media Example"
   ]
  },
  {
   "cell_type": "code",
   "execution_count": 13,
   "metadata": {},
   "outputs": [
    {
     "name": "stdout",
     "output_type": "stream",
     "text": [
      "friends\n"
     ]
    }
   ],
   "source": [
    "social_graph = {\n",
    "    \"@bongolpoc\":{\"first_name\":\"Joselito\",\n",
    "                  \"last_name\":\"Olpoc\",\n",
    "                  \"following\":[\n",
    "                  ]\n",
    "    },\n",
    "    \"@joaquin\":  {\"first_name\":\"Joaquin\",\n",
    "                  \"last_name\":\"Gonzales\",\n",
    "                  \"following\":[\n",
    "                      \"@chums\",\"@jobenilagan\"\n",
    "                  ]\n",
    "    },\n",
    "    \"@chums\" : {\"first_name\":\"Matthew\",\n",
    "                \"last_name\":\"Uy\",\n",
    "                \"following\":[\n",
    "                    \"@bongolpoc\",\"@miketan\",\"@rudyang\",\"@joeilagan\"\n",
    "                ]\n",
    "    },\n",
    "    \"@jobenilagan\":{\"first_name\":\"Joben\",\n",
    "                   \"last_name\":\"Ilagan\",\n",
    "                   \"following\":[\n",
    "                    \"@eeebeee\",\"@joeilagan\",\"@chums\",\"@joaquin\"\n",
    "                   ]\n",
    "    },\n",
    "    \"@joeilagan\":{\"first_name\":\"Joe\",\n",
    "                  \"last_name\":\"Ilagan\",\n",
    "                  \"following\":[\n",
    "                    \"@eeebeee\",\"@jobenilagan\",\"@chums\"\n",
    "                  ]\n",
    "    },\n",
    "    \"@eeebeee\":  {\"first_name\":\"Elizabeth\",\n",
    "                  \"last_name\":\"Ilagan\",\n",
    "                  \"following\":[\n",
    "                    \"@jobenilagan\",\"@joeilagan\"\n",
    "                  ]\n",
    "    },\n",
    "}\n",
    "\n",
    "def relationship_status(from_member, to_member):\n",
    "    if from_member in social_graph[to_member][\"following\"] and to_member in social_graph[from_member][\"following\"]:\n",
    "        print(\"friends\")\n",
    "    elif from_member in social_graph[to_member][\"following\"]:\n",
    "        print(\"followed by\")\n",
    "    elif to_member in social_graph[from_member][\"following\"]:\n",
    "        print(\"following\")\n",
    "    else:\n",
    "        None\n",
    "\n",
    "relationship_status(\"@joeilagan\",\"@chums\")"
   ]
  },
  {
   "cell_type": "markdown",
   "metadata": {},
   "source": [
    "## Problem 2 - Tic-Tac-Toe"
   ]
  },
  {
   "cell_type": "code",
   "execution_count": 16,
   "metadata": {},
   "outputs": [
    {
     "name": "stdout",
     "output_type": "stream",
     "text": [
      "O\n"
     ]
    }
   ],
   "source": [
    "board1 = [\n",
    "['X','X','O'],\n",
    "['O','X','O'],\n",
    "['O','','X'],\n",
    "]\n",
    "\n",
    "board2 = [\n",
    "['X','X','O'],\n",
    "['O','X','O'],\n",
    "['','O','X'],\n",
    "]\n",
    "\n",
    "board3 = [\n",
    "['O','X','O'],\n",
    "['','O','X'],\n",
    "['X','X','O'],\n",
    "]\n",
    "\n",
    "board4 = [\n",
    "['X','X','X'],\n",
    "['O','X','O'],\n",
    "['O','','O'],\n",
    "]\n",
    "\n",
    "board5 = [\n",
    "['X','X','O'],\n",
    "['O','X','O'],\n",
    "['X','','O'],\n",
    "]\n",
    "\n",
    "board6 = [\n",
    "['X','X','O'],\n",
    "['O','X','O'],\n",
    "['X','',''],\n",
    "]\n",
    "\n",
    "\n",
    "def get_winner(board):\n",
    "\n",
    "    winner = None\n",
    "\n",
    "     ## diagonal from left to right\n",
    "    diagonal1 = []    \n",
    "    for i in range(len(board)):\n",
    "        x = board[i][i]\n",
    "        diagonal1.append(x)\n",
    "        if diagonal1 == ['X','X','X']:\n",
    "            winner = 'X' \n",
    "            return winner\n",
    "        elif diagonal1 == ['O','O','O']:\n",
    "            winner = 'O'\n",
    "            return winner\n",
    "\n",
    "\n",
    "     ##diagonal from right to left\n",
    "    diagonal2 = []\n",
    "    for i in range(len(board)):\n",
    "        y = board[2-i][i]\n",
    "        diagonal2.append(y)\n",
    "        if diagonal2 == ['X','X','X']:\n",
    "            winner = 'X' \n",
    "            return winner\n",
    "        elif diagonal2 == ['O','O','O']:\n",
    "            winner = 'O' \n",
    "            return winner\n",
    "    \n",
    "     ## check rows\n",
    "    for i in range(len(board)):\n",
    "        row = board[i]\n",
    "        if row == ['X','X','X']:\n",
    "            winner = 'X' \n",
    "            return winner\n",
    "        elif row == ['O','O','O']:\n",
    "            winner = 'O' \n",
    "            return winner\n",
    "\n",
    "     ## check columns\n",
    "    if ('X','X','X') in [i for i in zip(*board)]:\n",
    "        winner = 'X'\n",
    "        return winner\n",
    "    elif ('O','O','O') in [i for i in zip(*board)]:\n",
    "        winner = 'O'\n",
    "        return winner\n",
    "\n",
    "            \n",
    "winner = get_winner(board3)\n",
    "print(winner)"
   ]
  },
  {
   "cell_type": "markdown",
   "metadata": {},
   "source": [
    "## Problem 3"
   ]
  },
  {
   "cell_type": "code",
   "execution_count": 20,
   "metadata": {},
   "outputs": [
    {
     "name": "stdout",
     "output_type": "stream",
     "text": [
      "65\n"
     ]
    }
   ],
   "source": [
    "locations = {\n",
    "    \"admu\":{\n",
    "        \"name\":\"Ateneo de Manila University\",\n",
    "        \"latitude\":14.6394557,\n",
    "        \"longitude\":121.0758975        \n",
    "    },\n",
    "    \"upd\":{\n",
    "        \"name\":\"University of the Philippines-Diliman Campus\",\n",
    "        \"latitude\":14.6538519,\n",
    "        \"longitude\":121.0663348\n",
    "    },\n",
    "    \"dlsu\":{\n",
    "        \"name\":\"De La Salle University-Taft\",\n",
    "        \"latitude\":14.5647346,\n",
    "        \"longitude\":120.9909876\n",
    "\n",
    "    }, # <-- Note that Python does not complain about this extra comma. This is perfectly okay.\n",
    "       #     The creators of Python saw that dictionaries tend to be changed a lot, so allowing this is a\n",
    "       #     convenience for developers who need to add elements when needed.\n",
    "}\n",
    "\n",
    "legs = {\n",
    "     (\"upd\",\"admu\"):{\n",
    "         \"travel_time_mins\":10\n",
    "     },\n",
    "     (\"admu\",\"dlsu\"):{\n",
    "         \"travel_time_mins\":35\n",
    "     },\n",
    "     (\"dlsu\",\"upd\"):{\n",
    "         \"travel_time_mins\":55\n",
    "     }\n",
    "}\n",
    "\n",
    "def eta(source,destination):\n",
    "    if (source=='upd' and destination =='admu')or(source=='admu' and destination=='dlsu')or(source=='dlsu' and destination=='upd'):\n",
    "        time = legs[(source,destination)]['travel_time_mins']\n",
    "        return time\n",
    "    elif source=='upd' and destination == 'dlsu':\n",
    "        time = legs[(source,'admu')]['travel_time_mins'] + legs[('admu',destination)]['travel_time_mins']\n",
    "        return time\n",
    "    elif source=='admu' and destination == 'upd':\n",
    "        time = legs[(source,'dlsu')]['travel_time_mins'] + legs[('dlsu',destination)]['travel_time_mins']\n",
    "        return time\n",
    "    elif source=='dlsu' and destination == 'admu':\n",
    "        time = legs[(source,'upd')]['travel_time_mins'] + legs[('upd',destination)]['travel_time_mins']\n",
    "        return time\n",
    "    else:\n",
    "        pass\n",
    "    \n",
    "print(eta('dlsu','admu'))\n",
    "    "
   ]
  },
  {
   "cell_type": "code",
   "execution_count": null,
   "metadata": {},
   "outputs": [],
   "source": []
  }
 ],
 "metadata": {
  "kernelspec": {
   "display_name": "Python 3",
   "language": "python",
   "name": "python3"
  },
  "language_info": {
   "codemirror_mode": {
    "name": "ipython",
    "version": 3
   },
   "file_extension": ".py",
   "mimetype": "text/x-python",
   "name": "python",
   "nbconvert_exporter": "python",
   "pygments_lexer": "ipython3",
   "version": "3.7.6"
  }
 },
 "nbformat": 4,
 "nbformat_minor": 4
}
