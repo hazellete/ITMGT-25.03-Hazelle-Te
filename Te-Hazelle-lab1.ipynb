{
 "cells": [
  {
   "cell_type": "markdown",
   "metadata": {},
   "source": [
    "```\n",
    "194926\n",
    "TE\n",
    "2 BS ME\n",
    "```"
   ]
  },
  {
   "cell_type": "code",
   "execution_count": 5,
   "metadata": {},
   "outputs": [
    {
     "name": "stdout",
     "output_type": "stream",
     "text": [
      "Enter the amount in US Dollars: 1\n",
      "1  US dollar(s) =  50  Philippine Pesos\n"
     ]
    }
   ],
   "source": [
    "#Problem 1\n",
    "\n",
    "def dollars_to_pesos(us_dollar):\n",
    "    ph_peso = us_dollar * 50\n",
    "    return ph_peso\n",
    "    \n",
    "us_dollar = int(input(\"Enter the amount in US Dollars: \"))\n",
    "ph_peso = dollars_to_pesos(us_dollar)\n",
    "print(us_dollar, \" US dollar(s) = \", ph_peso, \" Philippine Pesos\")"
   ]
  },
  {
   "cell_type": "code",
   "execution_count": 4,
   "metadata": {},
   "outputs": [
    {
     "name": "stdout",
     "output_type": "stream",
     "text": [
      "55\n",
      "3\n",
      "58\n",
      "52\n",
      "165\n",
      "18\n",
      "1\n"
     ]
    }
   ],
   "source": [
    "#Problem 2\n",
    "\n",
    "a = int(input())\n",
    "b = int(input())\n",
    "\n",
    "sum = a + b\n",
    "print(sum)\n",
    "\n",
    "difference = a - b\n",
    "print(difference)\n",
    "\n",
    "product = a * b\n",
    "print(product)\n",
    "\n",
    "quotient = a // b\n",
    "print(quotient)\n",
    "\n",
    "remainder = a % b\n",
    "print(remainder)"
   ]
  },
  {
   "cell_type": "code",
   "execution_count": 3,
   "metadata": {},
   "outputs": [
    {
     "name": "stdout",
     "output_type": "stream",
     "text": [
      "Enter kg: 65\n",
      "Enter cm: 180\n",
      "BMI:  20.061728395061728\n"
     ]
    }
   ],
   "source": [
    "#Problem 3\n",
    "\n",
    "kg = float(input(\"Enter kg: \"))\n",
    "cm = float(input(\"Enter cm: \"))\n",
    "\n",
    "def compute_bmi(kg, m):\n",
    "    bmi = kg / (m*m)\n",
    "    return bmi\n",
    "\n",
    "def convert_cm_to_m(cm):\n",
    "    m = cm/100\n",
    "    return m\n",
    "\n",
    "m = convert_cm_to_m(cm)\n",
    "bmi = compute_bmi(kg, m)\n",
    "print(\"BMI: \", bmi)\n"
   ]
  },
  {
   "cell_type": "code",
   "execution_count": null,
   "metadata": {},
   "outputs": [],
   "source": []
  }
 ],
 "metadata": {
  "kernelspec": {
   "display_name": "Python 3",
   "language": "python",
   "name": "python3"
  },
  "language_info": {
   "codemirror_mode": {
    "name": "ipython",
    "version": 3
   },
   "file_extension": ".py",
   "mimetype": "text/x-python",
   "name": "python",
   "nbconvert_exporter": "python",
   "pygments_lexer": "ipython3",
   "version": "3.7.6"
  }
 },
 "nbformat": 4,
 "nbformat_minor": 4
}
