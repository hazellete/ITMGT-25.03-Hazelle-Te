{
 "cells": [
  {
   "cell_type": "markdown",
   "metadata": {},
   "source": [
    "```\n",
    "194926\n",
    "TE\n",
    "2 BS ME\n",
    "\n",
    "```"
   ]
  },
  {
   "cell_type": "code",
   "execution_count": 2,
   "metadata": {},
   "outputs": [
    {
     "name": "stdout",
     "output_type": "stream",
     "text": [
      "March\n",
      "20\n",
      "Spring\n"
     ]
    }
   ],
   "source": [
    "month = str(input())\n",
    "day = int(input())\n",
    "\n",
    "if month == \"January\" and day >=1 and day <= 31:\n",
    "    print(\"Winter\")\n",
    "elif month == \"February\" and day >=1 and day <= 29:\n",
    "    print(\"Winter\")\n",
    "elif month == \"March\" and day >=1 and day <= 31:\n",
    "    if day < 20:\n",
    "        print(\"Winter\")\n",
    "    elif day >= 20:\n",
    "        print(\"Spring\")\n",
    "elif month == \"April\" and day >=1 and day <= 30:\n",
    "    print(\"Spring\")\n",
    "elif month == \"May\" and day >=1 and day <= 31:\n",
    "    print(\"Spring\")\n",
    "elif month == \"June\" and day >=1 and day <= 30:\n",
    "    if day < 21:\n",
    "        print(\"Spring\")\n",
    "    elif day >= 21:\n",
    "        print(\"Summer\")\n",
    "elif month == \"July\" and day >=1 and day <= 31:\n",
    "    print(\"Summer\")\n",
    "elif month == \"August\" and day >=1 and day <= 31:\n",
    "    print(\"Summer\")\n",
    "elif month == \"September\" and day >=1 and day <= 30:\n",
    "    if day < 22:\n",
    "        print(\"Summer\")\n",
    "    elif day >= 22:\n",
    "        print(\"Fall\")\n",
    "elif month == \"October\" and day >=1 and day <= 31:\n",
    "    print(\"Fall\")\n",
    "elif month == \"November\" and day >=1 and day <= 30:\n",
    "    print(\"Fall\")\n",
    "elif month == \"December\" and day >=1 and day <= 31:\n",
    "    if day < 21:\n",
    "        print(\"Fall\")\n",
    "    elif day >= 21:\n",
    "        print(\"Winter\")\n",
    "else:\n",
    "    print(\"Invalid Date.\")"
   ]
  },
  {
   "cell_type": "code",
   "execution_count": null,
   "metadata": {},
   "outputs": [],
   "source": []
  }
 ],
 "metadata": {
  "kernelspec": {
   "display_name": "Python 3",
   "language": "python",
   "name": "python3"
  },
  "language_info": {
   "codemirror_mode": {
    "name": "ipython",
    "version": 3
   },
   "file_extension": ".py",
   "mimetype": "text/x-python",
   "name": "python",
   "nbconvert_exporter": "python",
   "pygments_lexer": "ipython3",
   "version": "3.7.6"
  }
 },
 "nbformat": 4,
 "nbformat_minor": 4
}
